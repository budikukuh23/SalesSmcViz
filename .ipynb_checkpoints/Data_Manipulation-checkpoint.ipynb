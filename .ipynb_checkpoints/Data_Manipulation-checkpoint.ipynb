{
 "cells": [
  {
   "cell_type": "code",
   "execution_count": 2,
   "metadata": {
    "colab": {
     "base_uri": "https://localhost:8080/"
    },
    "id": "vyjUYvNRvJ-Q",
    "outputId": "03f8389d-02e4-416e-f3a5-83c41ddfa3e3"
   },
   "outputs": [
    {
     "name": "stdout",
     "output_type": "stream",
     "text": [
      "   Rank                      Name Platform    Year         Genre Publisher  \\\n",
      "0     1                Wii Sports      Wii  2006.0        Sports  Nintendo   \n",
      "1     2         Super Mario Bros.      NES  1985.0      Platform  Nintendo   \n",
      "2     3            Mario Kart Wii      Wii  2008.0        Racing  Nintendo   \n",
      "3     4         Wii Sports Resort      Wii  2009.0        Sports  Nintendo   \n",
      "4     5  Pokemon Red/Pokemon Blue       GB  1996.0  Role-Playing  Nintendo   \n",
      "\n",
      "   NA_Sales  EU_Sales  JP_Sales  Other_Sales  Global_Sales  \n",
      "0     41.49     29.02      3.77         8.46         82.74  \n",
      "1     29.08      3.58      6.81         0.77         40.24  \n",
      "2     15.85     12.88      3.79         3.31         35.82  \n",
      "3     15.75     11.01      3.28         2.96         33.00  \n",
      "4     11.27      8.89     10.22         1.00         31.37  \n"
     ]
    }
   ],
   "source": [
    "import pandas as pd\n",
    "salesData = pd.read_csv(\"https://firebasestorage.googleapis.com/v0/b/my-thesis-c5a39.appspot.com/o/Others%2Fvgsales.csv?alt=media&token=a95ac813-e116-4280-8657-cdc1b706d1c9\")\n",
    "print(salesData.head())"
   ]
  },
  {
   "cell_type": "code",
   "execution_count": 3,
   "metadata": {
    "colab": {
     "base_uri": "https://localhost:8080/"
    },
    "id": "XNJRW57U3T6d",
    "outputId": "00fb82ab-90bf-40b3-98fb-87b7edb906eb"
   },
   "outputs": [
    {
     "name": "stdout",
     "output_type": "stream",
     "text": [
      "<class 'pandas.core.frame.DataFrame'>\n",
      "RangeIndex: 16598 entries, 0 to 16597\n",
      "Data columns (total 11 columns):\n",
      " #   Column        Non-Null Count  Dtype  \n",
      "---  ------        --------------  -----  \n",
      " 0   Rank          16598 non-null  int64  \n",
      " 1   Name          16598 non-null  object \n",
      " 2   Platform      16598 non-null  object \n",
      " 3   Year          16327 non-null  float64\n",
      " 4   Genre         16598 non-null  object \n",
      " 5   Publisher     16540 non-null  object \n",
      " 6   NA_Sales      16598 non-null  float64\n",
      " 7   EU_Sales      16598 non-null  float64\n",
      " 8   JP_Sales      16598 non-null  float64\n",
      " 9   Other_Sales   16598 non-null  float64\n",
      " 10  Global_Sales  16598 non-null  float64\n",
      "dtypes: float64(6), int64(1), object(4)\n",
      "memory usage: 1.4+ MB\n"
     ]
    }
   ],
   "source": [
    "salesData.info()"
   ]
  },
  {
   "cell_type": "code",
   "execution_count": 11,
   "metadata": {
    "id": "C1YWLT2fDTua"
   },
   "outputs": [],
   "source": [
    "col_dict = {'Name': 'Product', 'Platform': 'Team', 'Genre': 'Product_Category', 'Publisher' : 'Sales_Engineer', 'NA_Sales': 'BKS_Sales',\n",
    "            'EU_Sales': 'KWG_Sales', 'JP_Sales': 'TNG_Sales', 'Other_Sales': 'BGR_Sales', 'Global_Sales': 'Total_Sales'}\n",
    "\n",
    "salesData.columns = [col_dict.get(x, x) for x in salesData.columns]"
   ]
  },
  {
   "cell_type": "code",
   "execution_count": 12,
   "metadata": {
    "colab": {
     "base_uri": "https://localhost:8080/"
    },
    "id": "2RWfSSy9E9yJ",
    "outputId": "7053c5e4-b8b6-4646-8a12-e0c66bac4ef9"
   },
   "outputs": [
    {
     "data": {
      "text/plain": [
       "Index(['Rank', 'Product', 'Team', 'Year', 'Product_Category', 'Sales Engineer',\n",
       "       'BKS_Sales', 'KWG_Sales', 'TNG_Sales', 'BGR_Sales', 'Total_Sales'],\n",
       "      dtype='object')"
      ]
     },
     "execution_count": 12,
     "metadata": {},
     "output_type": "execute_result"
    }
   ],
   "source": [
    "salesData.columns"
   ]
  },
  {
   "cell_type": "code",
   "execution_count": 13,
   "metadata": {
    "colab": {
     "base_uri": "https://localhost:8080/"
    },
    "id": "j_KweBnJ7fBi",
    "outputId": "92eca109-204c-4cee-f1ac-dab0e5492655"
   },
   "outputs": [
    {
     "data": {
      "text/plain": [
       "array(['Sports', 'Platform', 'Racing', 'Role-Playing', 'Puzzle', 'Misc',\n",
       "       'Shooter', 'Simulation', 'Action', 'Fighting', 'Adventure',\n",
       "       'Strategy'], dtype=object)"
      ]
     },
     "execution_count": 13,
     "metadata": {},
     "output_type": "execute_result"
    }
   ],
   "source": [
    "salesData['Product_Category'].unique()"
   ]
  },
  {
   "cell_type": "code",
   "execution_count": 15,
   "metadata": {
    "colab": {
     "base_uri": "https://localhost:8080/"
    },
    "id": "WKVlvFA0F_ab",
    "outputId": "9a85b8ed-840f-40bc-8a85-a1fa5b4b3645"
   },
   "outputs": [
    {
     "data": {
      "text/plain": [
       "array(['Air_Cylinders', 'Electric_Actuators', 'Switches/Sensors',\n",
       "       'Fittings/Tubing', 'Air_Preparation', 'Vacuum_Equipment',\n",
       "       'Rotary_Actuators', 'Flow_Control', 'Directional_Control_Valves',\n",
       "       'FRL', 'Lubrication', 'Accessories'], dtype=object)"
      ]
     },
     "execution_count": 15,
     "metadata": {},
     "output_type": "execute_result"
    }
   ],
   "source": [
    "cat_dict = {'Action': 'Directional_Control_Valves', 'Sports': 'Air_Cylinders', 'Shooter':'Rotary_Actuators', 'Platform':'Electric_Actuators',\n",
    "            'Misc': 'Vacuum_Equipment', 'Racing': 'Switches/Sensors', 'Role-Playing': 'Fittings/Tubing', 'Fighting': 'FRL', 'Simulation': 'Flow_Control',\n",
    "            'Puzzle': 'Air_Preparation', 'Adventure': 'Lubrication', 'Strategy':'Accessories'}\n",
    "\n",
    "salesData['Product_Category'] = [cat_dict.get(x, x) for x in salesData['Product_Category']]\n",
    "salesData['Product_Category'].unique()"
   ]
  },
  {
   "cell_type": "code",
   "execution_count": 10,
   "metadata": {
    "colab": {
     "base_uri": "https://localhost:8080/"
    },
    "id": "ja3PuWtg70FG",
    "outputId": "1404fcae-6b5b-4b8f-f993-d49856841d96"
   },
   "outputs": [
    {
     "data": {
      "text/plain": [
       "array(['Wii', 'NES', 'GB', 'DS', 'X360', 'PS3', 'PS2', 'SNES', 'GBA',\n",
       "       '3DS', 'PS4', 'N64', 'PS', 'XB', 'PC', '2600', 'PSP', 'XOne', 'GC',\n",
       "       'WiiU', 'GEN', 'DC', 'PSV', 'SAT', 'SCD', 'WS', 'NG', 'TG16',\n",
       "       '3DO', 'GG', 'PCFX'], dtype=object)"
      ]
     },
     "execution_count": 10,
     "metadata": {},
     "output_type": "execute_result"
    }
   ],
   "source": [
    "salesData['Team'].unique()"
   ]
  },
  {
   "cell_type": "code",
   "execution_count": 17,
   "metadata": {
    "colab": {
     "base_uri": "https://localhost:8080/"
    },
    "id": "OYQudzPwJLsK",
    "outputId": "8e1a9b34-d9a0-428d-a475-8a8fb524f13c"
   },
   "outputs": [
    {
     "data": {
      "text/plain": [
       "array(['TMSales1', 'TMSales2', 'TMSales3', 'TMSales4', 'TMSales5',\n",
       "       'TMSales6', 'TMSales7', 'TMSales8', 'TMSales9', 'TMSales10',\n",
       "       'TMSales11', 'TMSales12', 'TMSales13', 'TMSales14', 'TMSales15',\n",
       "       'TMSales16', 'TMSales17', 'TMSales18', 'TMSales19', 'TMSales20',\n",
       "       'TMSales21', 'TMSales22', 'TMSales23', 'TMSales25', 'TMSales26',\n",
       "       'TMSales27', 'TMSales28', 'TMSales29', 'TMSales30', 'TMSales31'],\n",
       "      dtype=object)"
      ]
     },
     "execution_count": 17,
     "metadata": {},
     "output_type": "execute_result"
    }
   ],
   "source": [
    "tm_dict = {'Wii': 'TMSales1', 'NES': 'TMSales2', 'GB': 'TMSales3', 'DS': 'TMSales4', 'X360':'TMSales5', 'PS3':'TMSales6', 'PS2':'TMSales7',\n",
    "           'SNES':'TMSales8', 'GBA':'TMSales9', '3DS': 'TMSales10', 'PS4': 'TMSales11', 'N64':'TMSales12', 'PS':'TMSales13', 'XB':'TMSales14',\n",
    "           'PC': 'TMSales15', '2600':'TMSales16', 'PSP':'TMSales17', 'XOne':'TMSales18', 'GC':'TMSales19', 'WiiU':'TMSales20', 'GEN':'TMSales21',\n",
    "           'DC': 'TMSales22', 'PSV':'TMSales23', 'SAT':'TMSales24', 'SAT':'TMSales25', 'SCD':'TMSales26', 'WS':'TMSales27', 'NG':'TMSales27',\n",
    "           'TG16':'TMSales28', '3DO':'TMSales29', 'GG':'TMSales30', 'PCFX':'TMSales31'}\n",
    "\n",
    "salesData['Team'] = [tm_dict.get(x, x) for x in salesData['Team']]\n",
    "salesData['Team'].unique()"
   ]
  },
  {
   "cell_type": "code",
   "execution_count": 20,
   "metadata": {
    "colab": {
     "base_uri": "https://localhost:8080/"
    },
    "id": "q9v7X6_IMAqS",
    "outputId": "0f3c6bcd-383d-4ff8-c57e-6caa24f82b25"
   },
   "outputs": [
    {
     "data": {
      "text/plain": [
       "array(['Bayu', 'Microsoft Game Studios', 'Faisal', 'Ferdi', 'Febby',\n",
       "       'Andrias', 'Bethesda Softworks', 'Amir', 'Amin', 'SquareSoft',\n",
       "       'Kriston', '505 Games', 'Capcom', 'GT Interactive', 'Rizal',\n",
       "       'Sony Computer Entertainment Europe', 'Square Enix', 'LucasArts',\n",
       "       'Virgin Interactive', 'Warner Bros. Interactive Entertainment',\n",
       "       'Universal Interactive', 'Eidos Interactive', 'RedOctane',\n",
       "       'Vivendi Games', 'Enix Corporation', 'Yaqub', 'Palcom',\n",
       "       'Hasbro Interactive', 'Yogi', 'Fox Interactive',\n",
       "       'Acclaim Entertainment', 'MTV Games', 'Disney Interactive Studios',\n",
       "       nan, 'Majesco Entertainment', 'Codemasters', 'Red Orb', 'Level 5',\n",
       "       'Arena Entertainment', 'Midway Games', 'JVC', 'Deep Silver',\n",
       "       '989 Studios', 'NCSoft', 'UEP Systems', 'Parker Bros.', 'Maxis',\n",
       "       'Imagic', 'Tecmo Koei', 'Valve Software', 'ASCII Entertainment',\n",
       "       'Mindscape', 'Infogrames', 'Unknown', 'Square', 'Valve',\n",
       "       'Activision Value', 'Banpresto', 'D3Publisher',\n",
       "       'Oxygen Interactive', 'Red Storm Entertainment', 'Video System',\n",
       "       'Hello Games', 'Global Star', 'Gotham Games', 'Westwood Studios',\n",
       "       'GungHo', 'Crave Entertainment', 'Hudson Soft', 'Coleco',\n",
       "       'Rising Star Games', 'Atlus', 'TDK Mediactive', 'ASC Games',\n",
       "       'Zoo Games', 'Accolade', 'Sony Online Entertainment', '3DO', 'RTL',\n",
       "       'Natsume', 'Focus Home Interactive', 'Alchemist',\n",
       "       'Black Label Games', 'SouthPeak Games', 'Mastertronic', 'Ocean',\n",
       "       'Zoo Digital Publishing', 'Psygnosis', 'City Interactive',\n",
       "       'Empire Interactive', 'Success', 'Compile', 'Russel', 'Taito',\n",
       "       'Agetec', 'GSP', 'Microprose', 'Play It', 'Slightly Mad Studios',\n",
       "       'Tomy Corporation', 'Sammy Corporation', 'Koch Media',\n",
       "       'Game Factory', 'Titus', 'Marvelous Entertainment', 'Genki',\n",
       "       'Mojang', 'Pinnacle', 'CTO SpA', 'TalonSoft', 'Crystal Dynamics',\n",
       "       'SCi', 'Quelle', 'mixi, Inc', 'Rage Software', 'Ubisoft Annecy',\n",
       "       'Scholastic Inc.', 'Interplay', 'Mystique', 'ChunSoft',\n",
       "       'Square EA', '20th Century Fox Video Games', 'Avanquest Software',\n",
       "       'Hudson Entertainment', 'Nordic Games', 'Men-A-Vision', 'Nobilis',\n",
       "       'Big Ben Interactive', 'Touchstone', 'Spike', 'Jester Interactive',\n",
       "       'Nippon Ichi Software', 'LEGO Media', 'Quest',\n",
       "       'Illusion Softworks', 'Tigervision', 'Funbox Media',\n",
       "       'Rocket Company', 'Metro 3D', 'Mattel Interactive', 'IE Institute',\n",
       "       'Rondomedia', 'Sony Computer Entertainment America',\n",
       "       'Universal Gamex', 'Ghostlight', 'Wizard Video Games',\n",
       "       'BMG Interactive Entertainment', 'PQube', 'Trion Worlds', 'Laguna',\n",
       "       'Ignition Entertainment', 'Takara', 'Kadokawa Shoten', 'Destineer',\n",
       "       'Enterbrain', 'Xseed Games', 'Imagineer',\n",
       "       'System 3 Arcade Software', 'CPG Products', 'Aruze Corp',\n",
       "       'Gamebridge', 'Midas Interactive Entertainment', 'Jaleco',\n",
       "       'Answer Software', 'XS Games', 'Activision Blizzard',\n",
       "       'Pack In Soft', 'Rebellion', 'Xplosiv', 'Ultravision',\n",
       "       'GameMill Entertainment', 'Wanadoo', 'NovaLogic', 'Telltale Games',\n",
       "       'Epoch', 'BAM! Entertainment', 'Knowledge Adventure', 'Mastiff',\n",
       "       'Tetris Online', 'Harmonix Music Systems', 'ESP', 'TYO',\n",
       "       'Telegames', 'Mud Duck Productions', 'Screenlife', 'Pioneer LDC',\n",
       "       'Magical Company', 'Mentor Interactive', 'Kemco',\n",
       "       'Human Entertainment', 'Avanquest', 'Data Age',\n",
       "       'Electronic Arts Victor', 'Black Bean Games', 'Jack of All Games',\n",
       "       '989 Sports', 'Takara Tomy', 'Media Rings', 'Elf', 'Kalypso Media',\n",
       "       'Starfish', 'Zushi Games', 'Jorudan', 'Destination Software, Inc',\n",
       "       'New', 'Brash Entertainment', 'ITT Family Games', 'PopCap Games',\n",
       "       'Home Entertainment Suppliers', 'Ackkstudios', 'Starpath Corp.',\n",
       "       'P2 Games', 'BPS', 'Gathering of Developers', 'NewKidCo',\n",
       "       'Storm City Games', 'CokeM Interactive', 'CBS Electronics',\n",
       "       'Magix', 'Marvelous Interactive', 'Nihon Falcom Corporation',\n",
       "       'Wargaming.net', 'Angel Studios', 'Arc System Works', 'Playmates',\n",
       "       'SNK Playmore', 'Hamster Corporation', 'From Software',\n",
       "       'Nippon Columbia', 'Nichibutsu', 'Little Orbit',\n",
       "       'Conspiracy Entertainment', 'DTP Entertainment', 'Hect',\n",
       "       'Mumbo Jumbo', 'Pacific Century Cyber Works', 'Indie Games',\n",
       "       'Liquid Games', 'NEC', 'Axela', 'ArtDink', 'Sunsoft', 'Gust',\n",
       "       'SNK', 'NEC Interchannel', 'FuRyu', 'Xing Entertainment',\n",
       "       'ValuSoft', 'Victor Interactive', 'Detn8 Games',\n",
       "       'American Softworks', 'Nordcurrent', 'Bomb', 'Falcom Corporation',\n",
       "       'AQ Interactive', 'CCP', 'Milestone S.r.l.', 'Sears',\n",
       "       'JoWood Productions', 'Seta Corporation', 'On Demand', 'NCS',\n",
       "       'Aspyr', 'Gremlin Interactive Ltd', 'Agatsuma Entertainment',\n",
       "       'Compile Heart', 'Culture Brain', 'Mad Catz', 'Shogakukan',\n",
       "       'Merscom LLC', 'Rebellion Developments', 'Nippon Telenet',\n",
       "       'TDK Core', 'bitComposer Games', 'Foreign Media Games', 'Astragon',\n",
       "       'SSI', 'Kadokawa Games', 'Idea Factory',\n",
       "       'Performance Designed Products', 'Asylum Entertainment',\n",
       "       'Core Design Ltd.', 'PlayV', 'UFO Interactive',\n",
       "       'Idea Factory International', 'Playlogic Game Factory',\n",
       "       'Essential Games', 'Adeline Software', 'Funcom',\n",
       "       'Panther Software', 'Blast! Entertainment Ltd', 'Game Life',\n",
       "       'DSI Games', 'Avalon Interactive', 'Popcorn Arcade',\n",
       "       'Neko Entertainment', 'Vir2L Studios', 'Aques', 'Syscom',\n",
       "       'White Park Bay Software', 'System 3', 'Vatical Entertainment',\n",
       "       'Daedalic', 'EA Games', 'Media Factory', 'Vic Tokai',\n",
       "       'The Adventure Company', 'Game Arts', 'Broccoli', 'Acquire',\n",
       "       'General Entertainment', 'Excalibur Publishing', 'Imadio',\n",
       "       'Swing! Entertainment', 'Sony Music Entertainment', 'Aqua Plus',\n",
       "       'Paradox Interactive', 'Hip Interactive',\n",
       "       'DreamCatcher Interactive', 'Tripwire Interactive', 'Sting',\n",
       "       'Yacht Club Games', 'SCS Software', 'Bigben Interactive',\n",
       "       'Havas Interactive', 'Slitherine Software', 'Graffiti', 'Funsta',\n",
       "       'Telstar', 'U.S. Gold', 'DreamWorks Interactive',\n",
       "       'Data Design Interactive', 'MTO', 'DHM Interactive', 'FunSoft',\n",
       "       'SPS', 'Bohemia Interactive', 'Reef Entertainment',\n",
       "       'Tru Blu Entertainment', 'Moss', 'T&E Soft', 'O-Games',\n",
       "       'Aksys Games', 'NDA Productions', 'Data East',\n",
       "       'Time Warner Interactive', 'Gainax Network Systems', 'Daito',\n",
       "       'O3 Entertainment', 'Gameloft', 'Xicat Interactive',\n",
       "       'Simon & Schuster Interactive', 'Valcon Games', 'PopTop Software',\n",
       "       'TOHO', 'HMH Interactive', '5pb', 'Cave',\n",
       "       'CDV Software Entertainment', 'Microids', 'PM Studios', 'Paon',\n",
       "       'Micro Cabin', 'GameTek', 'Benesse', 'Type-Moon',\n",
       "       'Enjoy Gaming ltd.', 'Asmik Corp', 'Interplay Productions',\n",
       "       'Asmik Ace Entertainment', 'inXile Entertainment', 'Image Epoch',\n",
       "       'Phantom EFX', 'Evolved Games', 'responDESIGN',\n",
       "       'Culture Publishers', 'Griffin International', 'Hackberry',\n",
       "       'Hearty Robin', 'Nippon Amuse', 'Origin Systems', 'Seventh Chord',\n",
       "       'Mitsui', 'Milestone', 'Abylight', 'Flight-Plan', 'Glams', 'Locus',\n",
       "       'Warp', 'Daedalic Entertainment', 'Alternative Software',\n",
       "       'Myelin Media', 'Mercury Games', 'Irem Software Engineering',\n",
       "       'Sunrise Interactive', 'Elite', 'Evolution Games', 'Tivola',\n",
       "       'Global A Entertainment', 'Edia', 'Athena', 'Aria', 'Gamecock',\n",
       "       'Tommo', 'Altron', 'Happinet', 'iWin', 'Media Works', 'Fortyfive',\n",
       "       'Revolution Software', 'Imax', 'Crimson Cow', '10TACLE Studios',\n",
       "       'Groove Games', 'Pack-In-Video', 'Insomniac Games',\n",
       "       'Ascaron Entertainment GmbH', 'Asgard', 'Ecole', 'Yumedia',\n",
       "       'Phenomedia', 'HAL Laboratory', 'Grand Prix Games', 'DigiCube',\n",
       "       'Creative Core', 'Kaga Create', 'WayForward Technologies',\n",
       "       'LSP Games', 'ASCII Media Works', 'Coconuts Japan', 'Arika',\n",
       "       'Ertain', 'Marvel Entertainment', 'Prototype',\n",
       "       'TopWare Interactive', 'Phantagram', '1C Company',\n",
       "       'The Learning Company', 'TechnoSoft', 'Vap', 'Misawa', 'Tradewest',\n",
       "       'Team17 Software', 'Yeti', 'Pow', 'Navarre Corp', 'MediaQuest',\n",
       "       'Max Five', 'Comfort', 'Monte Christo Multimedia', 'Pony Canyon',\n",
       "       'Riverhillsoft', 'Summitsoft', 'Milestone S.r.l', 'Playmore',\n",
       "       'MLB.com', 'Kool Kizz', 'Flashpoint Games', '49Games',\n",
       "       'Legacy Interactive', 'Alawar Entertainment', 'CyberFront',\n",
       "       'Cloud Imperium Games Corporation', 'Societa',\n",
       "       'Virtual Play Games', 'Interchannel', 'Sonnet', 'Experience Inc.',\n",
       "       'Zenrin', 'Iceberg Interactive', 'Ivolgamus', '2D Boy',\n",
       "       'MC2 Entertainment', 'Kando Games', 'Just Flight', 'Office Create',\n",
       "       'Mamba Games', 'Fields', 'Princess Soft', 'Maximum Family Games',\n",
       "       'Berkeley', 'Fuji', 'Dusenberry Martin Racing', 'imageepoch Inc.',\n",
       "       'Big Fish Games', 'Her Interactive', 'Kamui', 'ASK',\n",
       "       'Headup Games', 'KSS', 'Cygames', 'KID', 'Quinrose', 'Sunflowers',\n",
       "       'dramatic create', 'TGL', 'Encore', 'Extreme Entertainment Group',\n",
       "       'Intergrow', 'G.Rev', 'Sweets', 'Kokopeli Digital Studios',\n",
       "       'Number None', 'Nexon', 'id Software', 'BushiRoad', 'Tryfirst',\n",
       "       'Strategy First', '7G//AMES', 'GN Software', \"Yuke's\",\n",
       "       'Easy Interactive', 'Licensed 4U', 'FuRyu Corporation',\n",
       "       'Lexicon Entertainment', 'Paon Corporation', 'Kids Station', 'GOA',\n",
       "       'Graphsim Entertainment', 'King Records', 'Introversion Software',\n",
       "       'Minato Station', 'Devolver Digital', 'Blue Byte', 'Gaga',\n",
       "       'Yamasa Entertainment', 'Plenty', 'Views', 'fonfun', 'NetRevo',\n",
       "       'Codemasters Online', 'Quintet', 'Phoenix Games', 'Dorart',\n",
       "       'Marvelous Games', 'Focus Multimedia', 'Imageworks',\n",
       "       'Karin Entertainment', 'Aerosoft', 'Technos Japan Corporation',\n",
       "       'Gakken', 'Mirai Shounen', 'Datam Polystar', 'Saurus', 'HuneX',\n",
       "       'Revolution (Japan)', 'Giza10', 'Visco', 'Alvion', 'Mycom', 'Giga',\n",
       "       'Warashi', 'System Soft', 'Sold Out', 'Lighthouse Interactive',\n",
       "       'Masque Publishing', 'RED Entertainment', 'Michaelsoft',\n",
       "       'Media Entertainment', 'New World Computing', 'Genterprise',\n",
       "       'Interworks Unlimited, Inc.', 'Boost On', 'Stainless Games',\n",
       "       'EON Digital Entertainment', 'Epic Games', 'Naxat Soft',\n",
       "       'Ascaron Entertainment', 'Piacci', 'Nitroplus',\n",
       "       'Paradox Development', 'Otomate', 'Ongakukan', 'Commseed',\n",
       "       'Inti Creates', 'Takuyo', 'Interchannel-Holon', 'Rain Games',\n",
       "       'UIG Entertainment'], dtype=object)"
      ]
     },
     "execution_count": 20,
     "metadata": {},
     "output_type": "execute_result"
    }
   ],
   "source": [
    "se_dict = {'Nintendo':'Bayu', 'Electronic Arts':'Amir', 'Activision': 'Febby', 'Sony Computer Entertainment': 'Ferdi', 'Ubisoft':'Andrias', 'Take-Two Interactive': 'Faisal', 'THQ':'Yogi', 'Microsoft Game Studio':'Agus', 'Atari':'Kriston', 'Sega':'Amin', 'Namco Bandai Games':'Yaqub', 'Konami Digital Entertainment': 'Rizal'}\n",
    "\n",
    "salesData['Sales_Engineer'] = [se_dict.get(x, x) for x in salesData['Sales_Engineer']]\n",
    "salesData['Sales_Engineer'].unique()"
   ]
  },
  {
   "cell_type": "code",
   "execution_count": 21,
   "metadata": {
    "colab": {
     "base_uri": "https://localhost:8080/",
     "height": 206
    },
    "id": "-a44BWrtRsPq",
    "outputId": "b7f9b2cd-2d8c-4b16-83ff-e46696943890"
   },
   "outputs": [
    {
     "data": {
      "text/html": [
       "\n",
       "  <div id=\"df-f1553c44-a057-4c83-b0ff-c5c92d28279f\">\n",
       "    <div class=\"colab-df-container\">\n",
       "      <div>\n",
       "<style scoped>\n",
       "    .dataframe tbody tr th:only-of-type {\n",
       "        vertical-align: middle;\n",
       "    }\n",
       "\n",
       "    .dataframe tbody tr th {\n",
       "        vertical-align: top;\n",
       "    }\n",
       "\n",
       "    .dataframe thead th {\n",
       "        text-align: right;\n",
       "    }\n",
       "</style>\n",
       "<table border=\"1\" class=\"dataframe\">\n",
       "  <thead>\n",
       "    <tr style=\"text-align: right;\">\n",
       "      <th></th>\n",
       "      <th>Rank</th>\n",
       "      <th>Product</th>\n",
       "      <th>Team</th>\n",
       "      <th>Year</th>\n",
       "      <th>Product_Category</th>\n",
       "      <th>Sales Engineer</th>\n",
       "      <th>BKS_Sales</th>\n",
       "      <th>KWG_Sales</th>\n",
       "      <th>TNG_Sales</th>\n",
       "      <th>BGR_Sales</th>\n",
       "      <th>Total_Sales</th>\n",
       "    </tr>\n",
       "  </thead>\n",
       "  <tbody>\n",
       "    <tr>\n",
       "      <th>0</th>\n",
       "      <td>1</td>\n",
       "      <td>Wii Sports</td>\n",
       "      <td>TMSales1</td>\n",
       "      <td>2006.0</td>\n",
       "      <td>Air_Cylinders</td>\n",
       "      <td>Bayu</td>\n",
       "      <td>41.49</td>\n",
       "      <td>29.02</td>\n",
       "      <td>3.77</td>\n",
       "      <td>8.46</td>\n",
       "      <td>82.74</td>\n",
       "    </tr>\n",
       "    <tr>\n",
       "      <th>1</th>\n",
       "      <td>2</td>\n",
       "      <td>Super Mario Bros.</td>\n",
       "      <td>TMSales2</td>\n",
       "      <td>1985.0</td>\n",
       "      <td>Electric_Actuators</td>\n",
       "      <td>Bayu</td>\n",
       "      <td>29.08</td>\n",
       "      <td>3.58</td>\n",
       "      <td>6.81</td>\n",
       "      <td>0.77</td>\n",
       "      <td>40.24</td>\n",
       "    </tr>\n",
       "    <tr>\n",
       "      <th>2</th>\n",
       "      <td>3</td>\n",
       "      <td>Mario Kart Wii</td>\n",
       "      <td>TMSales1</td>\n",
       "      <td>2008.0</td>\n",
       "      <td>Switches/Sensors</td>\n",
       "      <td>Bayu</td>\n",
       "      <td>15.85</td>\n",
       "      <td>12.88</td>\n",
       "      <td>3.79</td>\n",
       "      <td>3.31</td>\n",
       "      <td>35.82</td>\n",
       "    </tr>\n",
       "    <tr>\n",
       "      <th>3</th>\n",
       "      <td>4</td>\n",
       "      <td>Wii Sports Resort</td>\n",
       "      <td>TMSales1</td>\n",
       "      <td>2009.0</td>\n",
       "      <td>Air_Cylinders</td>\n",
       "      <td>Bayu</td>\n",
       "      <td>15.75</td>\n",
       "      <td>11.01</td>\n",
       "      <td>3.28</td>\n",
       "      <td>2.96</td>\n",
       "      <td>33.00</td>\n",
       "    </tr>\n",
       "    <tr>\n",
       "      <th>4</th>\n",
       "      <td>5</td>\n",
       "      <td>Pokemon Red/Pokemon Blue</td>\n",
       "      <td>TMSales3</td>\n",
       "      <td>1996.0</td>\n",
       "      <td>Fittings/Tubing</td>\n",
       "      <td>Bayu</td>\n",
       "      <td>11.27</td>\n",
       "      <td>8.89</td>\n",
       "      <td>10.22</td>\n",
       "      <td>1.00</td>\n",
       "      <td>31.37</td>\n",
       "    </tr>\n",
       "  </tbody>\n",
       "</table>\n",
       "</div>\n",
       "      <button class=\"colab-df-convert\" onclick=\"convertToInteractive('df-f1553c44-a057-4c83-b0ff-c5c92d28279f')\"\n",
       "              title=\"Convert this dataframe to an interactive table.\"\n",
       "              style=\"display:none;\">\n",
       "        \n",
       "  <svg xmlns=\"http://www.w3.org/2000/svg\" height=\"24px\"viewBox=\"0 0 24 24\"\n",
       "       width=\"24px\">\n",
       "    <path d=\"M0 0h24v24H0V0z\" fill=\"none\"/>\n",
       "    <path d=\"M18.56 5.44l.94 2.06.94-2.06 2.06-.94-2.06-.94-.94-2.06-.94 2.06-2.06.94zm-11 1L8.5 8.5l.94-2.06 2.06-.94-2.06-.94L8.5 2.5l-.94 2.06-2.06.94zm10 10l.94 2.06.94-2.06 2.06-.94-2.06-.94-.94-2.06-.94 2.06-2.06.94z\"/><path d=\"M17.41 7.96l-1.37-1.37c-.4-.4-.92-.59-1.43-.59-.52 0-1.04.2-1.43.59L10.3 9.45l-7.72 7.72c-.78.78-.78 2.05 0 2.83L4 21.41c.39.39.9.59 1.41.59.51 0 1.02-.2 1.41-.59l7.78-7.78 2.81-2.81c.8-.78.8-2.07 0-2.86zM5.41 20L4 18.59l7.72-7.72 1.47 1.35L5.41 20z\"/>\n",
       "  </svg>\n",
       "      </button>\n",
       "      \n",
       "  <style>\n",
       "    .colab-df-container {\n",
       "      display:flex;\n",
       "      flex-wrap:wrap;\n",
       "      gap: 12px;\n",
       "    }\n",
       "\n",
       "    .colab-df-convert {\n",
       "      background-color: #E8F0FE;\n",
       "      border: none;\n",
       "      border-radius: 50%;\n",
       "      cursor: pointer;\n",
       "      display: none;\n",
       "      fill: #1967D2;\n",
       "      height: 32px;\n",
       "      padding: 0 0 0 0;\n",
       "      width: 32px;\n",
       "    }\n",
       "\n",
       "    .colab-df-convert:hover {\n",
       "      background-color: #E2EBFA;\n",
       "      box-shadow: 0px 1px 2px rgba(60, 64, 67, 0.3), 0px 1px 3px 1px rgba(60, 64, 67, 0.15);\n",
       "      fill: #174EA6;\n",
       "    }\n",
       "\n",
       "    [theme=dark] .colab-df-convert {\n",
       "      background-color: #3B4455;\n",
       "      fill: #D2E3FC;\n",
       "    }\n",
       "\n",
       "    [theme=dark] .colab-df-convert:hover {\n",
       "      background-color: #434B5C;\n",
       "      box-shadow: 0px 1px 3px 1px rgba(0, 0, 0, 0.15);\n",
       "      filter: drop-shadow(0px 1px 2px rgba(0, 0, 0, 0.3));\n",
       "      fill: #FFFFFF;\n",
       "    }\n",
       "  </style>\n",
       "\n",
       "      <script>\n",
       "        const buttonEl =\n",
       "          document.querySelector('#df-f1553c44-a057-4c83-b0ff-c5c92d28279f button.colab-df-convert');\n",
       "        buttonEl.style.display =\n",
       "          google.colab.kernel.accessAllowed ? 'block' : 'none';\n",
       "\n",
       "        async function convertToInteractive(key) {\n",
       "          const element = document.querySelector('#df-f1553c44-a057-4c83-b0ff-c5c92d28279f');\n",
       "          const dataTable =\n",
       "            await google.colab.kernel.invokeFunction('convertToInteractive',\n",
       "                                                     [key], {});\n",
       "          if (!dataTable) return;\n",
       "\n",
       "          const docLinkHtml = 'Like what you see? Visit the ' +\n",
       "            '<a target=\"_blank\" href=https://colab.research.google.com/notebooks/data_table.ipynb>data table notebook</a>'\n",
       "            + ' to learn more about interactive tables.';\n",
       "          element.innerHTML = '';\n",
       "          dataTable['output_type'] = 'display_data';\n",
       "          await google.colab.output.renderOutput(dataTable, element);\n",
       "          const docLink = document.createElement('div');\n",
       "          docLink.innerHTML = docLinkHtml;\n",
       "          element.appendChild(docLink);\n",
       "        }\n",
       "      </script>\n",
       "    </div>\n",
       "  </div>\n",
       "  "
      ],
      "text/plain": [
       "   Rank                   Product      Team    Year    Product_Category  \\\n",
       "0     1                Wii Sports  TMSales1  2006.0       Air_Cylinders   \n",
       "1     2         Super Mario Bros.  TMSales2  1985.0  Electric_Actuators   \n",
       "2     3            Mario Kart Wii  TMSales1  2008.0    Switches/Sensors   \n",
       "3     4         Wii Sports Resort  TMSales1  2009.0       Air_Cylinders   \n",
       "4     5  Pokemon Red/Pokemon Blue  TMSales3  1996.0     Fittings/Tubing   \n",
       "\n",
       "  Sales Engineer  BKS_Sales  KWG_Sales  TNG_Sales  BGR_Sales  Total_Sales  \n",
       "0           Bayu      41.49      29.02       3.77       8.46        82.74  \n",
       "1           Bayu      29.08       3.58       6.81       0.77        40.24  \n",
       "2           Bayu      15.85      12.88       3.79       3.31        35.82  \n",
       "3           Bayu      15.75      11.01       3.28       2.96        33.00  \n",
       "4           Bayu      11.27       8.89      10.22       1.00        31.37  "
      ]
     },
     "execution_count": 21,
     "metadata": {},
     "output_type": "execute_result"
    }
   ],
   "source": [
    "salesData.head()"
   ]
  },
  {
   "cell_type": "code",
   "execution_count": 22,
   "metadata": {
    "id": "litEyRJkTQYU"
   },
   "outputs": [],
   "source": [
    "salesData.to_csv(\"salesSMC.csv\", index=False)"
   ]
  }
 ],
 "metadata": {
  "colab": {
   "name": "Data Manipulation.ipynb",
   "provenance": []
  },
  "kernelspec": {
   "display_name": "Python 3 (ipykernel)",
   "language": "python",
   "name": "python3"
  },
  "language_info": {
   "codemirror_mode": {
    "name": "ipython",
    "version": 3
   },
   "file_extension": ".py",
   "mimetype": "text/x-python",
   "name": "python",
   "nbconvert_exporter": "python",
   "pygments_lexer": "ipython3",
   "version": "3.9.7"
  }
 },
 "nbformat": 4,
 "nbformat_minor": 1
}
